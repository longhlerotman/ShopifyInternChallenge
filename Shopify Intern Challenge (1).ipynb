{
 "cells": [
  {
   "cell_type": "code",
   "execution_count": 1,
   "metadata": {},
   "outputs": [],
   "source": [
    "#loading packages\n",
    "import pandas as pd\n",
    "import numpy as np\n",
    "import matplotlib.pyplot as plt\n",
    "import seaborn as sns\n",
    "from scipy import stats"
   ]
  },
  {
   "cell_type": "code",
   "execution_count": 2,
   "metadata": {},
   "outputs": [],
   "source": [
    "#Read in Files\n",
    "DF1=pd.read_excel('C:/Users/longh/Downloads/2019 Winter Data Science Intern Challenge Data Set.xlsx')\n"
   ]
  },
  {
   "cell_type": "code",
   "execution_count": 3,
   "metadata": {
    "scrolled": true
   },
   "outputs": [
    {
     "data": {
      "text/html": [
       "<div>\n",
       "<style scoped>\n",
       "    .dataframe tbody tr th:only-of-type {\n",
       "        vertical-align: middle;\n",
       "    }\n",
       "\n",
       "    .dataframe tbody tr th {\n",
       "        vertical-align: top;\n",
       "    }\n",
       "\n",
       "    .dataframe thead th {\n",
       "        text-align: right;\n",
       "    }\n",
       "</style>\n",
       "<table border=\"1\" class=\"dataframe\">\n",
       "  <thead>\n",
       "    <tr style=\"text-align: right;\">\n",
       "      <th></th>\n",
       "      <th>order_id</th>\n",
       "      <th>shop_id</th>\n",
       "      <th>user_id</th>\n",
       "      <th>order_amount</th>\n",
       "      <th>total_items</th>\n",
       "      <th>payment_method</th>\n",
       "      <th>created_at</th>\n",
       "    </tr>\n",
       "  </thead>\n",
       "  <tbody>\n",
       "    <tr>\n",
       "      <th>0</th>\n",
       "      <td>1863</td>\n",
       "      <td>39</td>\n",
       "      <td>738</td>\n",
       "      <td>536</td>\n",
       "      <td>4</td>\n",
       "      <td>cash</td>\n",
       "      <td>2017-03-01 00:08:09.179</td>\n",
       "    </tr>\n",
       "    <tr>\n",
       "      <th>1</th>\n",
       "      <td>1742</td>\n",
       "      <td>39</td>\n",
       "      <td>910</td>\n",
       "      <td>268</td>\n",
       "      <td>2</td>\n",
       "      <td>cash</td>\n",
       "      <td>2017-03-01 00:10:19.043</td>\n",
       "    </tr>\n",
       "    <tr>\n",
       "      <th>2</th>\n",
       "      <td>3229</td>\n",
       "      <td>97</td>\n",
       "      <td>912</td>\n",
       "      <td>324</td>\n",
       "      <td>2</td>\n",
       "      <td>cash</td>\n",
       "      <td>2017-03-01 00:14:12.250</td>\n",
       "    </tr>\n",
       "    <tr>\n",
       "      <th>3</th>\n",
       "      <td>1268</td>\n",
       "      <td>80</td>\n",
       "      <td>798</td>\n",
       "      <td>290</td>\n",
       "      <td>2</td>\n",
       "      <td>credit_card</td>\n",
       "      <td>2017-03-01 00:19:31.258</td>\n",
       "    </tr>\n",
       "    <tr>\n",
       "      <th>4</th>\n",
       "      <td>2690</td>\n",
       "      <td>49</td>\n",
       "      <td>799</td>\n",
       "      <td>258</td>\n",
       "      <td>2</td>\n",
       "      <td>credit_card</td>\n",
       "      <td>2017-03-01 00:22:24.790</td>\n",
       "    </tr>\n",
       "    <tr>\n",
       "      <th>...</th>\n",
       "      <td>...</td>\n",
       "      <td>...</td>\n",
       "      <td>...</td>\n",
       "      <td>...</td>\n",
       "      <td>...</td>\n",
       "      <td>...</td>\n",
       "      <td>...</td>\n",
       "    </tr>\n",
       "    <tr>\n",
       "      <th>4995</th>\n",
       "      <td>2631</td>\n",
       "      <td>53</td>\n",
       "      <td>940</td>\n",
       "      <td>112</td>\n",
       "      <td>1</td>\n",
       "      <td>credit_card</td>\n",
       "      <td>2017-03-30 23:12:13.085</td>\n",
       "    </tr>\n",
       "    <tr>\n",
       "      <th>4996</th>\n",
       "      <td>1686</td>\n",
       "      <td>34</td>\n",
       "      <td>818</td>\n",
       "      <td>244</td>\n",
       "      <td>2</td>\n",
       "      <td>cash</td>\n",
       "      <td>2017-03-30 23:16:09.573</td>\n",
       "    </tr>\n",
       "    <tr>\n",
       "      <th>4997</th>\n",
       "      <td>1475</td>\n",
       "      <td>21</td>\n",
       "      <td>815</td>\n",
       "      <td>142</td>\n",
       "      <td>1</td>\n",
       "      <td>cash</td>\n",
       "      <td>2017-03-30 23:26:54.436</td>\n",
       "    </tr>\n",
       "    <tr>\n",
       "      <th>4998</th>\n",
       "      <td>318</td>\n",
       "      <td>52</td>\n",
       "      <td>848</td>\n",
       "      <td>292</td>\n",
       "      <td>2</td>\n",
       "      <td>cash</td>\n",
       "      <td>2017-03-30 23:41:34.347</td>\n",
       "    </tr>\n",
       "    <tr>\n",
       "      <th>4999</th>\n",
       "      <td>2458</td>\n",
       "      <td>95</td>\n",
       "      <td>700</td>\n",
       "      <td>168</td>\n",
       "      <td>1</td>\n",
       "      <td>credit_card</td>\n",
       "      <td>2017-03-30 23:55:35.408</td>\n",
       "    </tr>\n",
       "  </tbody>\n",
       "</table>\n",
       "<p>5000 rows × 7 columns</p>\n",
       "</div>"
      ],
      "text/plain": [
       "      order_id  shop_id  user_id  order_amount  total_items payment_method  \\\n",
       "0         1863       39      738           536            4           cash   \n",
       "1         1742       39      910           268            2           cash   \n",
       "2         3229       97      912           324            2           cash   \n",
       "3         1268       80      798           290            2    credit_card   \n",
       "4         2690       49      799           258            2    credit_card   \n",
       "...        ...      ...      ...           ...          ...            ...   \n",
       "4995      2631       53      940           112            1    credit_card   \n",
       "4996      1686       34      818           244            2           cash   \n",
       "4997      1475       21      815           142            1           cash   \n",
       "4998       318       52      848           292            2           cash   \n",
       "4999      2458       95      700           168            1    credit_card   \n",
       "\n",
       "                  created_at  \n",
       "0    2017-03-01 00:08:09.179  \n",
       "1    2017-03-01 00:10:19.043  \n",
       "2    2017-03-01 00:14:12.250  \n",
       "3    2017-03-01 00:19:31.258  \n",
       "4    2017-03-01 00:22:24.790  \n",
       "...                      ...  \n",
       "4995 2017-03-30 23:12:13.085  \n",
       "4996 2017-03-30 23:16:09.573  \n",
       "4997 2017-03-30 23:26:54.436  \n",
       "4998 2017-03-30 23:41:34.347  \n",
       "4999 2017-03-30 23:55:35.408  \n",
       "\n",
       "[5000 rows x 7 columns]"
      ]
     },
     "execution_count": 3,
     "metadata": {},
     "output_type": "execute_result"
    }
   ],
   "source": [
    "#overview\n",
    "DF1"
   ]
  },
  {
   "cell_type": "code",
   "execution_count": 4,
   "metadata": {},
   "outputs": [],
   "source": [
    "DF1['created_at']=pd.to_datetime(DF1['created_at'])\n",
    "DF1['Day']=pd.DatetimeIndex(DF1['created_at']).day\n"
   ]
  },
  {
   "cell_type": "code",
   "execution_count": 5,
   "metadata": {},
   "outputs": [
    {
     "name": "stderr",
     "output_type": "stream",
     "text": [
      "C:\\Anaconda\\lib\\site-packages\\seaborn\\_decorators.py:36: FutureWarning: Pass the following variables as keyword args: x, y. From version 0.12, the only valid positional argument will be `data`, and passing other arguments without an explicit keyword will result in an error or misinterpretation.\n",
      "  warnings.warn(\n"
     ]
    },
    {
     "data": {
      "text/plain": [
       "<AxesSubplot:xlabel='Day', ylabel='order_amount'>"
      ]
     },
     "execution_count": 5,
     "metadata": {},
     "output_type": "execute_result"
    },
    {
     "data": {
      "image/png": "[encoded data removed]",
      "text/plain": [
       "<Figure size 432x288 with 1 Axes>"
      ]
     },
     "metadata": {
      "needs_background": "light"
     },
     "output_type": "display_data"
    }
   ],
   "source": [
    "# Plot the avg of order amount by Day.\n",
    "DFavgorderamount=DF1.groupby('Day').agg({'order_amount':'mean'}).reset_index()\n",
    "sns.lineplot(DFavgorderamount['Day'],DFavgorderamount['order_amount'],color='navy')\n",
    "#------------------------------"
   ]
  },
  {
   "cell_type": "markdown",
   "metadata": {},
   "source": [
    "- We can see a very high number of order amount per day. More than 2000 on average per day per customer( because when aggregrating, the average stands for on average for a row, or a customer)"
   ]
  },
  {
   "cell_type": "code",
   "execution_count": 6,
   "metadata": {},
   "outputs": [
    {
     "name": "stderr",
     "output_type": "stream",
     "text": [
      "C:\\Anaconda\\lib\\site-packages\\seaborn\\_decorators.py:36: FutureWarning: Pass the following variables as keyword args: x, y. From version 0.12, the only valid positional argument will be `data`, and passing other arguments without an explicit keyword will result in an error or misinterpretation.\n",
      "  warnings.warn(\n"
     ]
    },
    {
     "data": {
      "text/plain": [
       "<AxesSubplot:xlabel='Day', ylabel='total_items'>"
      ]
     },
     "execution_count": 6,
     "metadata": {},
     "output_type": "execute_result"
    },
    {
     "data": {
      "image/png": "[encoded data removed]",
      "text/plain": [
       "<Figure size 432x288 with 1 Axes>"
      ]
     },
     "metadata": {
      "needs_background": "light"
     },
     "output_type": "display_data"
    }
   ],
   "source": [
    "DFavgitem=DF1.groupby('Day').agg({'total_items':'mean'}).reset_index()\n",
    "sns.lineplot(DFavgitem['Day'],DFavgitem['total_items'],color='blue')"
   ]
  },
  {
   "cell_type": "markdown",
   "metadata": {},
   "source": [
    "- However, we can see that on average for an order, there are more than just 1 item per orders. Some days, there are on average somewhat 25 items."
   ]
  },
  {
   "cell_type": "code",
   "execution_count": 7,
   "metadata": {
    "scrolled": true
   },
   "outputs": [
    {
     "data": {
      "text/plain": [
       "3145.128"
      ]
     },
     "execution_count": 7,
     "metadata": {},
     "output_type": "execute_result"
    }
   ],
   "source": [
    "DF1['order_amount'].mean()"
   ]
  },
  {
   "cell_type": "code",
   "execution_count": 8,
   "metadata": {},
   "outputs": [
    {
     "data": {
      "text/plain": [
       "284.0"
      ]
     },
     "execution_count": 8,
     "metadata": {},
     "output_type": "execute_result"
    }
   ],
   "source": [
    "DF1['order_amount'].median()"
   ]
  },
  {
   "cell_type": "markdown",
   "metadata": {},
   "source": [
    "- AOV as calculated is $3145.13 and MOV is 284"
   ]
  },
  {
   "cell_type": "code",
   "execution_count": 9,
   "metadata": {
    "scrolled": true
   },
   "outputs": [
    {
     "data": {
      "text/plain": [
       "417.36448087431694"
      ]
     },
     "execution_count": 9,
     "metadata": {},
     "output_type": "execute_result"
    }
   ],
   "source": [
    "DF1[DF1['total_items']<2]['order_amount'].mean()"
   ]
  },
  {
   "cell_type": "code",
   "execution_count": 10,
   "metadata": {
    "scrolled": true
   },
   "outputs": [
    {
     "data": {
      "text/plain": [
       "153.0"
      ]
     },
     "execution_count": 10,
     "metadata": {},
     "output_type": "execute_result"
    }
   ],
   "source": [
    "DF1[DF1['total_items']<2]['order_amount'].median()"
   ]
  },
  {
   "cell_type": "markdown",
   "metadata": {},
   "source": [
    "- However, if we only care about orders with just 1 items, the AOV would be $417.36, totally acceptable than previous calculation. If cared about median, then MOV = 153.00"
   ]
  },
  {
   "cell_type": "markdown",
   "metadata": {},
   "source": [
    "### There are some customers buying more than one item in an order, so the order_amount does not represent the average price of a sneaker. Therefore, we need to calculate the average item amount per order ###"
   ]
  },
  {
   "cell_type": "code",
   "execution_count": 11,
   "metadata": {},
   "outputs": [],
   "source": [
    "# calculate the amount of dollar value per item in an order with a customer\n",
    "DF1['itemamount']=DF1['order_amount']/DF1['total_items']"
   ]
  },
  {
   "cell_type": "code",
   "execution_count": 12,
   "metadata": {
    "scrolled": true
   },
   "outputs": [
    {
     "data": {
      "text/plain": [
       "387.7428"
      ]
     },
     "execution_count": 12,
     "metadata": {},
     "output_type": "execute_result"
    }
   ],
   "source": [
    "DF1['itemamount'].mean()"
   ]
  },
  {
   "cell_type": "markdown",
   "metadata": {},
   "source": [
    "- Average item amount would then be $387.74"
   ]
  },
  {
   "cell_type": "code",
   "execution_count": 13,
   "metadata": {
    "scrolled": false
   },
   "outputs": [
    {
     "data": {
      "text/plain": [
       "2441.963725368457"
      ]
     },
     "execution_count": 13,
     "metadata": {},
     "output_type": "execute_result"
    }
   ],
   "source": [
    "DF1['itemamount'].std()"
   ]
  },
  {
   "cell_type": "markdown",
   "metadata": {},
   "source": [
    "- However, STD is high at $2441,96 showing that there are high variations in the types of shoes and the average price of a shoe that a customer pays on average"
   ]
  },
  {
   "cell_type": "code",
   "execution_count": 14,
   "metadata": {},
   "outputs": [
    {
     "data": {
      "text/plain": [
       "153.0"
      ]
     },
     "execution_count": 14,
     "metadata": {},
     "output_type": "execute_result"
    }
   ],
   "source": [
    "DF1['itemamount'].median()"
   ]
  },
  {
   "cell_type": "markdown",
   "metadata": {},
   "source": [
    "- Median a more representative in this case because of large deviations in item amount"
   ]
  },
  {
   "cell_type": "code",
   "execution_count": 15,
   "metadata": {},
   "outputs": [
    {
     "data": {
      "text/html": [
       "<div>\n",
       "<style scoped>\n",
       "    .dataframe tbody tr th:only-of-type {\n",
       "        vertical-align: middle;\n",
       "    }\n",
       "\n",
       "    .dataframe tbody tr th {\n",
       "        vertical-align: top;\n",
       "    }\n",
       "\n",
       "    .dataframe thead tr th {\n",
       "        text-align: left;\n",
       "    }\n",
       "</style>\n",
       "<table border=\"1\" class=\"dataframe\">\n",
       "  <thead>\n",
       "    <tr>\n",
       "      <th></th>\n",
       "      <th>Day</th>\n",
       "      <th colspan=\"4\" halign=\"left\">itemamount</th>\n",
       "      <th colspan=\"2\" halign=\"left\">order_amount</th>\n",
       "      <th colspan=\"2\" halign=\"left\">total_items</th>\n",
       "      <th colspan=\"2\" halign=\"left\">user_id</th>\n",
       "    </tr>\n",
       "    <tr>\n",
       "      <th></th>\n",
       "      <th></th>\n",
       "      <th>mean</th>\n",
       "      <th>median</th>\n",
       "      <th>std</th>\n",
       "      <th>max</th>\n",
       "      <th>sum</th>\n",
       "      <th>std</th>\n",
       "      <th>sum</th>\n",
       "      <th>std</th>\n",
       "      <th>nunique</th>\n",
       "      <th>count</th>\n",
       "    </tr>\n",
       "  </thead>\n",
       "  <tbody>\n",
       "    <tr>\n",
       "      <th>0</th>\n",
       "      <td>1</td>\n",
       "      <td>294.532967</td>\n",
       "      <td>154.0</td>\n",
       "      <td>1895.742364</td>\n",
       "      <td>25725.0</td>\n",
       "      <td>106154</td>\n",
       "      <td>3794.599679</td>\n",
       "      <td>359</td>\n",
       "      <td>0.971593</td>\n",
       "      <td>131</td>\n",
       "      <td>182</td>\n",
       "    </tr>\n",
       "    <tr>\n",
       "      <th>1</th>\n",
       "      <td>2</td>\n",
       "      <td>573.500000</td>\n",
       "      <td>153.0</td>\n",
       "      <td>3265.230642</td>\n",
       "      <td>25725.0</td>\n",
       "      <td>1588109</td>\n",
       "      <td>73707.995273</td>\n",
       "      <td>4351</td>\n",
       "      <td>208.875408</td>\n",
       "      <td>135</td>\n",
       "      <td>182</td>\n",
       "    </tr>\n",
       "    <tr>\n",
       "      <th>2</th>\n",
       "      <td>3</td>\n",
       "      <td>149.086420</td>\n",
       "      <td>148.0</td>\n",
       "      <td>28.807650</td>\n",
       "      <td>352.0</td>\n",
       "      <td>48729</td>\n",
       "      <td>164.773594</td>\n",
       "      <td>324</td>\n",
       "      <td>0.958778</td>\n",
       "      <td>134</td>\n",
       "      <td>162</td>\n",
       "    </tr>\n",
       "    <tr>\n",
       "      <th>3</th>\n",
       "      <td>4</td>\n",
       "      <td>312.309091</td>\n",
       "      <td>156.0</td>\n",
       "      <td>1990.758587</td>\n",
       "      <td>25725.0</td>\n",
       "      <td>855504</td>\n",
       "      <td>55314.401752</td>\n",
       "      <td>2313</td>\n",
       "      <td>155.554338</td>\n",
       "      <td>124</td>\n",
       "      <td>165</td>\n",
       "    </tr>\n",
       "    <tr>\n",
       "      <th>4</th>\n",
       "      <td>5</td>\n",
       "      <td>311.539877</td>\n",
       "      <td>156.0</td>\n",
       "      <td>2003.004161</td>\n",
       "      <td>25725.0</td>\n",
       "      <td>126293</td>\n",
       "      <td>6023.052526</td>\n",
       "      <td>320</td>\n",
       "      <td>0.922219</td>\n",
       "      <td>126</td>\n",
       "      <td>163</td>\n",
       "    </tr>\n",
       "    <tr>\n",
       "      <th>5</th>\n",
       "      <td>6</td>\n",
       "      <td>151.567568</td>\n",
       "      <td>153.0</td>\n",
       "      <td>24.927968</td>\n",
       "      <td>201.0</td>\n",
       "      <td>42266</td>\n",
       "      <td>154.366690</td>\n",
       "      <td>277</td>\n",
       "      <td>0.942427</td>\n",
       "      <td>121</td>\n",
       "      <td>148</td>\n",
       "    </tr>\n",
       "    <tr>\n",
       "      <th>6</th>\n",
       "      <td>7</td>\n",
       "      <td>156.086735</td>\n",
       "      <td>156.0</td>\n",
       "      <td>34.702658</td>\n",
       "      <td>352.0</td>\n",
       "      <td>1465850</td>\n",
       "      <td>70902.301804</td>\n",
       "      <td>4378</td>\n",
       "      <td>201.318141</td>\n",
       "      <td>148</td>\n",
       "      <td>196</td>\n",
       "    </tr>\n",
       "    <tr>\n",
       "      <th>7</th>\n",
       "      <td>8</td>\n",
       "      <td>149.865385</td>\n",
       "      <td>153.5</td>\n",
       "      <td>23.221538</td>\n",
       "      <td>201.0</td>\n",
       "      <td>43432</td>\n",
       "      <td>148.375325</td>\n",
       "      <td>287</td>\n",
       "      <td>0.876185</td>\n",
       "      <td>119</td>\n",
       "      <td>156</td>\n",
       "    </tr>\n",
       "    <tr>\n",
       "      <th>8</th>\n",
       "      <td>9</td>\n",
       "      <td>409.110553</td>\n",
       "      <td>153.0</td>\n",
       "      <td>2557.423504</td>\n",
       "      <td>25725.0</td>\n",
       "      <td>191287</td>\n",
       "      <td>6530.472408</td>\n",
       "      <td>419</td>\n",
       "      <td>0.986740</td>\n",
       "      <td>146</td>\n",
       "      <td>199</td>\n",
       "    </tr>\n",
       "    <tr>\n",
       "      <th>9</th>\n",
       "      <td>10</td>\n",
       "      <td>151.131737</td>\n",
       "      <td>154.0</td>\n",
       "      <td>29.966156</td>\n",
       "      <td>352.0</td>\n",
       "      <td>48908</td>\n",
       "      <td>193.714232</td>\n",
       "      <td>319</td>\n",
       "      <td>0.992905</td>\n",
       "      <td>126</td>\n",
       "      <td>167</td>\n",
       "    </tr>\n",
       "    <tr>\n",
       "      <th>10</th>\n",
       "      <td>11</td>\n",
       "      <td>307.239521</td>\n",
       "      <td>153.0</td>\n",
       "      <td>1979.057684</td>\n",
       "      <td>25725.0</td>\n",
       "      <td>781305</td>\n",
       "      <td>54476.836335</td>\n",
       "      <td>2344</td>\n",
       "      <td>154.607739</td>\n",
       "      <td>125</td>\n",
       "      <td>167</td>\n",
       "    </tr>\n",
       "    <tr>\n",
       "      <th>11</th>\n",
       "      <td>12</td>\n",
       "      <td>637.937107</td>\n",
       "      <td>153.0</td>\n",
       "      <td>3490.203742</td>\n",
       "      <td>25725.0</td>\n",
       "      <td>856797</td>\n",
       "      <td>55971.927059</td>\n",
       "      <td>2328</td>\n",
       "      <td>158.449340</td>\n",
       "      <td>127</td>\n",
       "      <td>159</td>\n",
       "    </tr>\n",
       "    <tr>\n",
       "      <th>12</th>\n",
       "      <td>13</td>\n",
       "      <td>152.748428</td>\n",
       "      <td>153.0</td>\n",
       "      <td>32.024707</td>\n",
       "      <td>352.0</td>\n",
       "      <td>51362</td>\n",
       "      <td>203.837128</td>\n",
       "      <td>332</td>\n",
       "      <td>1.104557</td>\n",
       "      <td>126</td>\n",
       "      <td>159</td>\n",
       "    </tr>\n",
       "    <tr>\n",
       "      <th>13</th>\n",
       "      <td>14</td>\n",
       "      <td>498.614865</td>\n",
       "      <td>153.0</td>\n",
       "      <td>2962.696247</td>\n",
       "      <td>25725.0</td>\n",
       "      <td>122336</td>\n",
       "      <td>4684.367597</td>\n",
       "      <td>295</td>\n",
       "      <td>0.943986</td>\n",
       "      <td>120</td>\n",
       "      <td>148</td>\n",
       "    </tr>\n",
       "    <tr>\n",
       "      <th>14</th>\n",
       "      <td>15</td>\n",
       "      <td>510.027972</td>\n",
       "      <td>153.0</td>\n",
       "      <td>3013.759105</td>\n",
       "      <td>25725.0</td>\n",
       "      <td>795442</td>\n",
       "      <td>58894.085918</td>\n",
       "      <td>2268</td>\n",
       "      <td>167.092898</td>\n",
       "      <td>117</td>\n",
       "      <td>143</td>\n",
       "    </tr>\n",
       "    <tr>\n",
       "      <th>15</th>\n",
       "      <td>16</td>\n",
       "      <td>1047.580420</td>\n",
       "      <td>156.0</td>\n",
       "      <td>4713.865075</td>\n",
       "      <td>25725.0</td>\n",
       "      <td>350442</td>\n",
       "      <td>11966.591888</td>\n",
       "      <td>285</td>\n",
       "      <td>1.010484</td>\n",
       "      <td>116</td>\n",
       "      <td>143</td>\n",
       "    </tr>\n",
       "    <tr>\n",
       "      <th>16</th>\n",
       "      <td>17</td>\n",
       "      <td>798.590909</td>\n",
       "      <td>155.0</td>\n",
       "      <td>4022.345641</td>\n",
       "      <td>25725.0</td>\n",
       "      <td>915709</td>\n",
       "      <td>50212.633680</td>\n",
       "      <td>2384</td>\n",
       "      <td>141.998815</td>\n",
       "      <td>152</td>\n",
       "      <td>198</td>\n",
       "    </tr>\n",
       "    <tr>\n",
       "      <th>17</th>\n",
       "      <td>18</td>\n",
       "      <td>740.942197</td>\n",
       "      <td>153.0</td>\n",
       "      <td>3854.937807</td>\n",
       "      <td>25725.0</td>\n",
       "      <td>259864</td>\n",
       "      <td>8191.970453</td>\n",
       "      <td>374</td>\n",
       "      <td>1.010032</td>\n",
       "      <td>123</td>\n",
       "      <td>173</td>\n",
       "    </tr>\n",
       "    <tr>\n",
       "      <th>18</th>\n",
       "      <td>19</td>\n",
       "      <td>324.436242</td>\n",
       "      <td>153.0</td>\n",
       "      <td>2095.225390</td>\n",
       "      <td>25725.0</td>\n",
       "      <td>773732</td>\n",
       "      <td>57673.115536</td>\n",
       "      <td>2294</td>\n",
       "      <td>163.686080</td>\n",
       "      <td>117</td>\n",
       "      <td>149</td>\n",
       "    </tr>\n",
       "    <tr>\n",
       "      <th>19</th>\n",
       "      <td>20</td>\n",
       "      <td>313.550633</td>\n",
       "      <td>156.0</td>\n",
       "      <td>2034.626007</td>\n",
       "      <td>25725.0</td>\n",
       "      <td>98665</td>\n",
       "      <td>4072.073020</td>\n",
       "      <td>313</td>\n",
       "      <td>0.954183</td>\n",
       "      <td>125</td>\n",
       "      <td>158</td>\n",
       "    </tr>\n",
       "    <tr>\n",
       "      <th>20</th>\n",
       "      <td>21</td>\n",
       "      <td>292.569832</td>\n",
       "      <td>156.0</td>\n",
       "      <td>1911.762355</td>\n",
       "      <td>25725.0</td>\n",
       "      <td>101563</td>\n",
       "      <td>3827.271498</td>\n",
       "      <td>340</td>\n",
       "      <td>0.977816</td>\n",
       "      <td>125</td>\n",
       "      <td>179</td>\n",
       "    </tr>\n",
       "    <tr>\n",
       "      <th>21</th>\n",
       "      <td>22</td>\n",
       "      <td>444.897143</td>\n",
       "      <td>153.0</td>\n",
       "      <td>2726.117479</td>\n",
       "      <td>25725.0</td>\n",
       "      <td>857995</td>\n",
       "      <td>53500.808834</td>\n",
       "      <td>2341</td>\n",
       "      <td>151.040664</td>\n",
       "      <td>133</td>\n",
       "      <td>175</td>\n",
       "    </tr>\n",
       "    <tr>\n",
       "      <th>22</th>\n",
       "      <td>23</td>\n",
       "      <td>151.677632</td>\n",
       "      <td>153.0</td>\n",
       "      <td>27.451004</td>\n",
       "      <td>352.0</td>\n",
       "      <td>50003</td>\n",
       "      <td>168.799047</td>\n",
       "      <td>329</td>\n",
       "      <td>1.038619</td>\n",
       "      <td>123</td>\n",
       "      <td>152</td>\n",
       "    </tr>\n",
       "    <tr>\n",
       "      <th>23</th>\n",
       "      <td>24</td>\n",
       "      <td>155.129032</td>\n",
       "      <td>144.0</td>\n",
       "      <td>51.757641</td>\n",
       "      <td>352.0</td>\n",
       "      <td>1456430</td>\n",
       "      <td>79673.287827</td>\n",
       "      <td>4322</td>\n",
       "      <td>226.209705</td>\n",
       "      <td>122</td>\n",
       "      <td>155</td>\n",
       "    </tr>\n",
       "    <tr>\n",
       "      <th>24</th>\n",
       "      <td>25</td>\n",
       "      <td>456.123529</td>\n",
       "      <td>155.0</td>\n",
       "      <td>2765.369918</td>\n",
       "      <td>25725.0</td>\n",
       "      <td>857247</td>\n",
       "      <td>54280.120938</td>\n",
       "      <td>2330</td>\n",
       "      <td>153.246085</td>\n",
       "      <td>132</td>\n",
       "      <td>170</td>\n",
       "    </tr>\n",
       "    <tr>\n",
       "      <th>25</th>\n",
       "      <td>26</td>\n",
       "      <td>737.468571</td>\n",
       "      <td>156.0</td>\n",
       "      <td>3832.757784</td>\n",
       "      <td>25725.0</td>\n",
       "      <td>207534</td>\n",
       "      <td>6061.435372</td>\n",
       "      <td>353</td>\n",
       "      <td>1.008437</td>\n",
       "      <td>138</td>\n",
       "      <td>175</td>\n",
       "    </tr>\n",
       "    <tr>\n",
       "      <th>26</th>\n",
       "      <td>27</td>\n",
       "      <td>601.505882</td>\n",
       "      <td>153.0</td>\n",
       "      <td>3377.356459</td>\n",
       "      <td>25725.0</td>\n",
       "      <td>334819</td>\n",
       "      <td>13714.907711</td>\n",
       "      <td>354</td>\n",
       "      <td>1.106321</td>\n",
       "      <td>135</td>\n",
       "      <td>170</td>\n",
       "    </tr>\n",
       "    <tr>\n",
       "      <th>27</th>\n",
       "      <td>28</td>\n",
       "      <td>153.588571</td>\n",
       "      <td>153.0</td>\n",
       "      <td>35.704919</td>\n",
       "      <td>352.0</td>\n",
       "      <td>2165019</td>\n",
       "      <td>91603.954876</td>\n",
       "      <td>6354</td>\n",
       "      <td>260.086075</td>\n",
       "      <td>127</td>\n",
       "      <td>175</td>\n",
       "    </tr>\n",
       "    <tr>\n",
       "      <th>28</th>\n",
       "      <td>29</td>\n",
       "      <td>303.012121</td>\n",
       "      <td>148.0</td>\n",
       "      <td>1991.311212</td>\n",
       "      <td>25725.0</td>\n",
       "      <td>98929</td>\n",
       "      <td>3985.386068</td>\n",
       "      <td>323</td>\n",
       "      <td>0.919647</td>\n",
       "      <td>131</td>\n",
       "      <td>165</td>\n",
       "    </tr>\n",
       "    <tr>\n",
       "      <th>29</th>\n",
       "      <td>30</td>\n",
       "      <td>301.850299</td>\n",
       "      <td>147.0</td>\n",
       "      <td>1979.286916</td>\n",
       "      <td>25725.0</td>\n",
       "      <td>73915</td>\n",
       "      <td>1973.164347</td>\n",
       "      <td>326</td>\n",
       "      <td>0.910504</td>\n",
       "      <td>126</td>\n",
       "      <td>167</td>\n",
       "    </tr>\n",
       "  </tbody>\n",
       "</table>\n",
       "</div>"
      ],
      "text/plain": [
       "   Day   itemamount                              order_amount                \\\n",
       "               mean median          std      max          sum           std   \n",
       "0    1   294.532967  154.0  1895.742364  25725.0       106154   3794.599679   \n",
       "1    2   573.500000  153.0  3265.230642  25725.0      1588109  73707.995273   \n",
       "2    3   149.086420  148.0    28.807650    352.0        48729    164.773594   \n",
       "3    4   312.309091  156.0  1990.758587  25725.0       855504  55314.401752   \n",
       "4    5   311.539877  156.0  2003.004161  25725.0       126293   6023.052526   \n",
       "5    6   151.567568  153.0    24.927968    201.0        42266    154.366690   \n",
       "6    7   156.086735  156.0    34.702658    352.0      1465850  70902.301804   \n",
       "7    8   149.865385  153.5    23.221538    201.0        43432    148.375325   \n",
       "8    9   409.110553  153.0  2557.423504  25725.0       191287   6530.472408   \n",
       "9   10   151.131737  154.0    29.966156    352.0        48908    193.714232   \n",
       "10  11   307.239521  153.0  1979.057684  25725.0       781305  54476.836335   \n",
       "11  12   637.937107  153.0  3490.203742  25725.0       856797  55971.927059   \n",
       "12  13   152.748428  153.0    32.024707    352.0        51362    203.837128   \n",
       "13  14   498.614865  153.0  2962.696247  25725.0       122336   4684.367597   \n",
       "14  15   510.027972  153.0  3013.759105  25725.0       795442  58894.085918   \n",
       "15  16  1047.580420  156.0  4713.865075  25725.0       350442  11966.591888   \n",
       "16  17   798.590909  155.0  4022.345641  25725.0       915709  50212.633680   \n",
       "17  18   740.942197  153.0  3854.937807  25725.0       259864   8191.970453   \n",
       "18  19   324.436242  153.0  2095.225390  25725.0       773732  57673.115536   \n",
       "19  20   313.550633  156.0  2034.626007  25725.0        98665   4072.073020   \n",
       "20  21   292.569832  156.0  1911.762355  25725.0       101563   3827.271498   \n",
       "21  22   444.897143  153.0  2726.117479  25725.0       857995  53500.808834   \n",
       "22  23   151.677632  153.0    27.451004    352.0        50003    168.799047   \n",
       "23  24   155.129032  144.0    51.757641    352.0      1456430  79673.287827   \n",
       "24  25   456.123529  155.0  2765.369918  25725.0       857247  54280.120938   \n",
       "25  26   737.468571  156.0  3832.757784  25725.0       207534   6061.435372   \n",
       "26  27   601.505882  153.0  3377.356459  25725.0       334819  13714.907711   \n",
       "27  28   153.588571  153.0    35.704919    352.0      2165019  91603.954876   \n",
       "28  29   303.012121  148.0  1991.311212  25725.0        98929   3985.386068   \n",
       "29  30   301.850299  147.0  1979.286916  25725.0        73915   1973.164347   \n",
       "\n",
       "   total_items             user_id        \n",
       "           sum         std nunique count  \n",
       "0          359    0.971593     131   182  \n",
       "1         4351  208.875408     135   182  \n",
       "2          324    0.958778     134   162  \n",
       "3         2313  155.554338     124   165  \n",
       "4          320    0.922219     126   163  \n",
       "5          277    0.942427     121   148  \n",
       "6         4378  201.318141     148   196  \n",
       "7          287    0.876185     119   156  \n",
       "8          419    0.986740     146   199  \n",
       "9          319    0.992905     126   167  \n",
       "10        2344  154.607739     125   167  \n",
       "11        2328  158.449340     127   159  \n",
       "12         332    1.104557     126   159  \n",
       "13         295    0.943986     120   148  \n",
       "14        2268  167.092898     117   143  \n",
       "15         285    1.010484     116   143  \n",
       "16        2384  141.998815     152   198  \n",
       "17         374    1.010032     123   173  \n",
       "18        2294  163.686080     117   149  \n",
       "19         313    0.954183     125   158  \n",
       "20         340    0.977816     125   179  \n",
       "21        2341  151.040664     133   175  \n",
       "22         329    1.038619     123   152  \n",
       "23        4322  226.209705     122   155  \n",
       "24        2330  153.246085     132   170  \n",
       "25         353    1.008437     138   175  \n",
       "26         354    1.106321     135   170  \n",
       "27        6354  260.086075     127   175  \n",
       "28         323    0.919647     131   165  \n",
       "29         326    0.910504     126   167  "
      ]
     },
     "execution_count": 15,
     "metadata": {},
     "output_type": "execute_result"
    }
   ],
   "source": [
    "# Day to day statistics\n",
    "DF1.groupby('Day').agg({'itemamount':['mean','median','std','max'],'order_amount':['sum','std'],'total_items':['sum','std'],'user_id':['nunique','count']}).reset_index()"
   ]
  },
  {
   "cell_type": "markdown",
   "metadata": {},
   "source": [
    "- The median does not change much over the 30 days in the month\n",
    "- The mean is heavily affected by the standard devation on days where there are products with high prices on sold( especially at $25,725)."
   ]
  },
  {
   "cell_type": "code",
   "execution_count": 16,
   "metadata": {
    "scrolled": true
   },
   "outputs": [
    {
     "name": "stderr",
     "output_type": "stream",
     "text": [
      "C:\\Anaconda\\lib\\site-packages\\seaborn\\_decorators.py:36: FutureWarning: Pass the following variables as keyword args: x, y. From version 0.12, the only valid positional argument will be `data`, and passing other arguments without an explicit keyword will result in an error or misinterpretation.\n",
      "  warnings.warn(\n"
     ]
    },
    {
     "data": {
      "image/png": "[encoded data removed]",
      "text/plain": [
       "<Figure size 432x288 with 1 Axes>"
      ]
     },
     "metadata": {
      "needs_background": "light"
     },
     "output_type": "display_data"
    }
   ],
   "source": [
    "# Average mean item amount on each day.\n",
    "DFavgitemamount=DF1.groupby('Day').agg({'itemamount':'mean'}).reset_index()\n",
    "graph=sns.lineplot(DFavgitemamount['Day'],DFavgitemamount['itemamount'],color='blue')\n",
    "graph.axhline(DF1['itemamount'].mean())\n",
    "plt.show()"
   ]
  },
  {
   "cell_type": "code",
   "execution_count": 17,
   "metadata": {
    "scrolled": true
   },
   "outputs": [
    {
     "name": "stderr",
     "output_type": "stream",
     "text": [
      "C:\\Anaconda\\lib\\site-packages\\seaborn\\_decorators.py:36: FutureWarning: Pass the following variables as keyword args: x, y. From version 0.12, the only valid positional argument will be `data`, and passing other arguments without an explicit keyword will result in an error or misinterpretation.\n",
      "  warnings.warn(\n"
     ]
    },
    {
     "data": {
      "image/png": "[encoded data removed]",
      "text/plain": [
       "<Figure size 432x288 with 1 Axes>"
      ]
     },
     "metadata": {
      "needs_background": "light"
     },
     "output_type": "display_data"
    }
   ],
   "source": [
    "#  median item amount on each day.\n",
    "DFavgitemamount=DF1.groupby('Day').agg({'itemamount':'median'}).reset_index()\n",
    "graph=sns.lineplot(DFavgitemamount['Day'],DFavgitemamount['itemamount'],color='blue')\n",
    "graph.axhline(DF1['itemamount'].median())\n",
    "plt.show()"
   ]
  },
  {
   "cell_type": "code",
   "execution_count": 18,
   "metadata": {
    "scrolled": false
   },
   "outputs": [
    {
     "name": "stderr",
     "output_type": "stream",
     "text": [
      "C:\\Anaconda\\lib\\site-packages\\seaborn\\_decorators.py:36: FutureWarning: Pass the following variables as keyword args: x, y. From version 0.12, the only valid positional argument will be `data`, and passing other arguments without an explicit keyword will result in an error or misinterpretation.\n",
      "  warnings.warn(\n"
     ]
    },
    {
     "data": {
      "image/png": "[encoded data removed]",
      "text/plain": [
       "<Figure size 432x288 with 1 Axes>"
      ]
     },
     "metadata": {
      "needs_background": "light"
     },
     "output_type": "display_data"
    }
   ],
   "source": [
    "#  max item amount on each day.\n",
    "DFavgitemamount=DF1.groupby('Day').agg({'itemamount':'max'}).reset_index()\n",
    "graph=sns.lineplot(DFavgitemamount['Day'],DFavgitemamount['itemamount'],color='blue')\n",
    "plt.show()"
   ]
  },
  {
   "cell_type": "markdown",
   "metadata": {},
   "source": [
    "- Much fluctuated day to day"
   ]
  },
  {
   "cell_type": "markdown",
   "metadata": {},
   "source": [
    "### However, averaging on itemamount does not take into account the number of selling sneakers/ units, so it might be best to calculate AIV, total order amount/ total selling items"
   ]
  },
  {
   "cell_type": "code",
   "execution_count": 19,
   "metadata": {},
   "outputs": [
    {
     "data": {
      "text/plain": [
       "15725640"
      ]
     },
     "execution_count": 19,
     "metadata": {},
     "output_type": "execute_result"
    }
   ],
   "source": [
    "#Total order amount/ revenue\n",
    "DF1['order_amount'].sum()"
   ]
  },
  {
   "cell_type": "code",
   "execution_count": 20,
   "metadata": {},
   "outputs": [
    {
     "data": {
      "text/plain": [
       "43936"
      ]
     },
     "execution_count": 20,
     "metadata": {},
     "output_type": "execute_result"
    }
   ],
   "source": [
    "#Total number of selling items:\n",
    "DF1['total_items'].sum()\n"
   ]
  },
  {
   "cell_type": "code",
   "execution_count": 21,
   "metadata": {},
   "outputs": [
    {
     "data": {
      "text/plain": [
       "357.92152221412965"
      ]
     },
     "execution_count": 21,
     "metadata": {},
     "output_type": "execute_result"
    }
   ],
   "source": [
    "AIV=DF1['order_amount'].sum()/DF1['total_items'].sum()\n",
    "AIV"
   ]
  },
  {
   "cell_type": "code",
   "execution_count": 22,
   "metadata": {
    "scrolled": true
   },
   "outputs": [
    {
     "data": {
      "text/plain": [
       "307.01149425287355"
      ]
     },
     "execution_count": 22,
     "metadata": {},
     "output_type": "execute_result"
    }
   ],
   "source": [
    "AIV2=DF1[DF1['itemamount']<25725]['order_amount'].sum()/DF1[DF1['itemamount']<25725]['total_items'].sum()\n",
    "AIV2"
   ]
  },
  {
   "cell_type": "markdown",
   "metadata": {},
   "source": [
    "### Customers"
   ]
  },
  {
   "cell_type": "code",
   "execution_count": 23,
   "metadata": {},
   "outputs": [
    {
     "data": {
      "text/plain": [
       "301"
      ]
     },
     "execution_count": 23,
     "metadata": {},
     "output_type": "execute_result"
    }
   ],
   "source": [
    "#There are 301 unique customers in the last 30 days in this dataset.\n",
    "DF1['user_id'].nunique()"
   ]
  },
  {
   "cell_type": "code",
   "execution_count": 24,
   "metadata": {},
   "outputs": [
    {
     "data": {
      "text/html": [
       "<div>\n",
       "<style scoped>\n",
       "    .dataframe tbody tr th:only-of-type {\n",
       "        vertical-align: middle;\n",
       "    }\n",
       "\n",
       "    .dataframe tbody tr th {\n",
       "        vertical-align: top;\n",
       "    }\n",
       "\n",
       "    .dataframe thead th {\n",
       "        text-align: right;\n",
       "    }\n",
       "</style>\n",
       "<table border=\"1\" class=\"dataframe\">\n",
       "  <thead>\n",
       "    <tr style=\"text-align: right;\">\n",
       "      <th></th>\n",
       "      <th>user_id</th>\n",
       "      <th>order_id</th>\n",
       "    </tr>\n",
       "  </thead>\n",
       "  <tbody>\n",
       "    <tr>\n",
       "      <th>0</th>\n",
       "      <td>718</td>\n",
       "      <td>28</td>\n",
       "    </tr>\n",
       "    <tr>\n",
       "      <th>1</th>\n",
       "      <td>868</td>\n",
       "      <td>27</td>\n",
       "    </tr>\n",
       "    <tr>\n",
       "      <th>2</th>\n",
       "      <td>791</td>\n",
       "      <td>26</td>\n",
       "    </tr>\n",
       "    <tr>\n",
       "      <th>3</th>\n",
       "      <td>847</td>\n",
       "      <td>26</td>\n",
       "    </tr>\n",
       "    <tr>\n",
       "      <th>4</th>\n",
       "      <td>787</td>\n",
       "      <td>25</td>\n",
       "    </tr>\n",
       "    <tr>\n",
       "      <th>...</th>\n",
       "      <td>...</td>\n",
       "      <td>...</td>\n",
       "    </tr>\n",
       "    <tr>\n",
       "      <th>296</th>\n",
       "      <td>955</td>\n",
       "      <td>9</td>\n",
       "    </tr>\n",
       "    <tr>\n",
       "      <th>297</th>\n",
       "      <td>719</td>\n",
       "      <td>9</td>\n",
       "    </tr>\n",
       "    <tr>\n",
       "      <th>298</th>\n",
       "      <td>998</td>\n",
       "      <td>9</td>\n",
       "    </tr>\n",
       "    <tr>\n",
       "      <th>299</th>\n",
       "      <td>750</td>\n",
       "      <td>7</td>\n",
       "    </tr>\n",
       "    <tr>\n",
       "      <th>300</th>\n",
       "      <td>717</td>\n",
       "      <td>7</td>\n",
       "    </tr>\n",
       "  </tbody>\n",
       "</table>\n",
       "<p>301 rows × 2 columns</p>\n",
       "</div>"
      ],
      "text/plain": [
       "     user_id  order_id\n",
       "0        718        28\n",
       "1        868        27\n",
       "2        791        26\n",
       "3        847        26\n",
       "4        787        25\n",
       "..       ...       ...\n",
       "296      955         9\n",
       "297      719         9\n",
       "298      998         9\n",
       "299      750         7\n",
       "300      717         7\n",
       "\n",
       "[301 rows x 2 columns]"
      ]
     },
     "execution_count": 24,
     "metadata": {},
     "output_type": "execute_result"
    }
   ],
   "source": [
    "DF1.groupby('user_id').agg({'order_id':'count'}).reset_index().sort_values(by=['order_id'],ascending=False,ignore_index=True)"
   ]
  },
  {
   "cell_type": "code",
   "execution_count": 25,
   "metadata": {},
   "outputs": [
    {
     "data": {
      "text/plain": [
       "16.611295681063122"
      ]
     },
     "execution_count": 25,
     "metadata": {},
     "output_type": "execute_result"
    }
   ],
   "source": [
    "#Mean number of orders per customer\n",
    "DF1.groupby('user_id').agg({'order_id':'count'}).reset_index().sort_values(by=['order_id'],ascending=False,ignore_index=True)['order_id'].mean()"
   ]
  },
  {
   "cell_type": "code",
   "execution_count": 26,
   "metadata": {},
   "outputs": [
    {
     "data": {
      "text/plain": [
       "3.974720784610488"
      ]
     },
     "execution_count": 26,
     "metadata": {},
     "output_type": "execute_result"
    }
   ],
   "source": [
    "#STD of number of orders per customer\n",
    "DF1.groupby('user_id').agg({'order_id':'count'}).reset_index().sort_values(by=['order_id'],ascending=False,ignore_index=True)['order_id'].std()"
   ]
  },
  {
   "cell_type": "code",
   "execution_count": 27,
   "metadata": {},
   "outputs": [
    {
     "data": {
      "text/plain": [
       "301"
      ]
     },
     "execution_count": 27,
     "metadata": {},
     "output_type": "execute_result"
    }
   ],
   "source": [
    "# Num customers with more than 1 order in the month:\n",
    "Customers=DF1.groupby('user_id').agg({'order_id':'count'}).reset_index().sort_values(by=['order_id'],ascending=False,ignore_index=True)\n",
    "len(Customers[Customers['order_id']>=2])"
   ]
  },
  {
   "cell_type": "code",
   "execution_count": 28,
   "metadata": {},
   "outputs": [
    {
     "data": {
      "text/html": [
       "<div>\n",
       "<style scoped>\n",
       "    .dataframe tbody tr th:only-of-type {\n",
       "        vertical-align: middle;\n",
       "    }\n",
       "\n",
       "    .dataframe tbody tr th {\n",
       "        vertical-align: top;\n",
       "    }\n",
       "\n",
       "    .dataframe thead tr th {\n",
       "        text-align: left;\n",
       "    }\n",
       "</style>\n",
       "<table border=\"1\" class=\"dataframe\">\n",
       "  <thead>\n",
       "    <tr>\n",
       "      <th></th>\n",
       "      <th>user_id</th>\n",
       "      <th colspan=\"2\" halign=\"left\">order_amount</th>\n",
       "    </tr>\n",
       "    <tr>\n",
       "      <th></th>\n",
       "      <th></th>\n",
       "      <th>sum</th>\n",
       "      <th>mean</th>\n",
       "    </tr>\n",
       "  </thead>\n",
       "  <tbody>\n",
       "    <tr>\n",
       "      <th>0</th>\n",
       "      <td>607</td>\n",
       "      <td>11968000</td>\n",
       "      <td>704000.000000</td>\n",
       "    </tr>\n",
       "    <tr>\n",
       "      <th>1</th>\n",
       "      <td>700</td>\n",
       "      <td>4790</td>\n",
       "      <td>299.375000</td>\n",
       "    </tr>\n",
       "    <tr>\n",
       "      <th>2</th>\n",
       "      <td>701</td>\n",
       "      <td>5162</td>\n",
       "      <td>397.076923</td>\n",
       "    </tr>\n",
       "    <tr>\n",
       "      <th>3</th>\n",
       "      <td>702</td>\n",
       "      <td>5286</td>\n",
       "      <td>406.615385</td>\n",
       "    </tr>\n",
       "    <tr>\n",
       "      <th>4</th>\n",
       "      <td>703</td>\n",
       "      <td>6091</td>\n",
       "      <td>380.687500</td>\n",
       "    </tr>\n",
       "    <tr>\n",
       "      <th>...</th>\n",
       "      <td>...</td>\n",
       "      <td>...</td>\n",
       "      <td>...</td>\n",
       "    </tr>\n",
       "    <tr>\n",
       "      <th>296</th>\n",
       "      <td>995</td>\n",
       "      <td>5316</td>\n",
       "      <td>354.400000</td>\n",
       "    </tr>\n",
       "    <tr>\n",
       "      <th>297</th>\n",
       "      <td>996</td>\n",
       "      <td>5312</td>\n",
       "      <td>252.952381</td>\n",
       "    </tr>\n",
       "    <tr>\n",
       "      <th>298</th>\n",
       "      <td>997</td>\n",
       "      <td>29236</td>\n",
       "      <td>2248.923077</td>\n",
       "    </tr>\n",
       "    <tr>\n",
       "      <th>299</th>\n",
       "      <td>998</td>\n",
       "      <td>2620</td>\n",
       "      <td>291.111111</td>\n",
       "    </tr>\n",
       "    <tr>\n",
       "      <th>300</th>\n",
       "      <td>999</td>\n",
       "      <td>7195</td>\n",
       "      <td>299.791667</td>\n",
       "    </tr>\n",
       "  </tbody>\n",
       "</table>\n",
       "<p>301 rows × 3 columns</p>\n",
       "</div>"
      ],
      "text/plain": [
       "    user_id order_amount               \n",
       "                     sum           mean\n",
       "0       607     11968000  704000.000000\n",
       "1       700         4790     299.375000\n",
       "2       701         5162     397.076923\n",
       "3       702         5286     406.615385\n",
       "4       703         6091     380.687500\n",
       "..      ...          ...            ...\n",
       "296     995         5316     354.400000\n",
       "297     996         5312     252.952381\n",
       "298     997        29236    2248.923077\n",
       "299     998         2620     291.111111\n",
       "300     999         7195     299.791667\n",
       "\n",
       "[301 rows x 3 columns]"
      ]
     },
     "execution_count": 28,
     "metadata": {},
     "output_type": "execute_result"
    }
   ],
   "source": [
    "# Customers by their contribution to the total order value, as well as the mean.\n",
    "Customers2=DF1.groupby('user_id').agg({'order_amount':['sum','mean']}).reset_index()\n",
    "Customers2"
   ]
  },
  {
   "cell_type": "markdown",
   "metadata": {},
   "source": [
    "### Shops"
   ]
  },
  {
   "cell_type": "code",
   "execution_count": 29,
   "metadata": {},
   "outputs": [
    {
     "data": {
      "text/plain": [
       "100"
      ]
     },
     "execution_count": 29,
     "metadata": {},
     "output_type": "execute_result"
    }
   ],
   "source": [
    "# There are a total òf 100 unique shops\n",
    "DF1['shop_id'].nunique()"
   ]
  },
  {
   "cell_type": "code",
   "execution_count": 30,
   "metadata": {
    "scrolled": false
   },
   "outputs": [
    {
     "data": {
      "text/html": [
       "<div>\n",
       "<style scoped>\n",
       "    .dataframe tbody tr th:only-of-type {\n",
       "        vertical-align: middle;\n",
       "    }\n",
       "\n",
       "    .dataframe tbody tr th {\n",
       "        vertical-align: top;\n",
       "    }\n",
       "\n",
       "    .dataframe thead tr th {\n",
       "        text-align: left;\n",
       "    }\n",
       "</style>\n",
       "<table border=\"1\" class=\"dataframe\">\n",
       "  <thead>\n",
       "    <tr>\n",
       "      <th></th>\n",
       "      <th>shop_id</th>\n",
       "      <th colspan=\"4\" halign=\"left\">itemamount</th>\n",
       "      <th colspan=\"2\" halign=\"left\">order_amount</th>\n",
       "      <th colspan=\"2\" halign=\"left\">total_items</th>\n",
       "      <th colspan=\"2\" halign=\"left\">user_id</th>\n",
       "    </tr>\n",
       "    <tr>\n",
       "      <th></th>\n",
       "      <th></th>\n",
       "      <th>mean</th>\n",
       "      <th>median</th>\n",
       "      <th>std</th>\n",
       "      <th>max</th>\n",
       "      <th>sum</th>\n",
       "      <th>std</th>\n",
       "      <th>sum</th>\n",
       "      <th>std</th>\n",
       "      <th>nunique</th>\n",
       "      <th>count</th>\n",
       "    </tr>\n",
       "  </thead>\n",
       "  <tbody>\n",
       "    <tr>\n",
       "      <th>0</th>\n",
       "      <td>1</td>\n",
       "      <td>158.0</td>\n",
       "      <td>158.0</td>\n",
       "      <td>0.0</td>\n",
       "      <td>158.0</td>\n",
       "      <td>13588</td>\n",
       "      <td>117.816032</td>\n",
       "      <td>86</td>\n",
       "      <td>0.745671</td>\n",
       "      <td>42</td>\n",
       "      <td>44</td>\n",
       "    </tr>\n",
       "    <tr>\n",
       "      <th>1</th>\n",
       "      <td>2</td>\n",
       "      <td>94.0</td>\n",
       "      <td>94.0</td>\n",
       "      <td>0.0</td>\n",
       "      <td>94.0</td>\n",
       "      <td>9588</td>\n",
       "      <td>91.204909</td>\n",
       "      <td>102</td>\n",
       "      <td>0.970265</td>\n",
       "      <td>51</td>\n",
       "      <td>55</td>\n",
       "    </tr>\n",
       "    <tr>\n",
       "      <th>2</th>\n",
       "      <td>3</td>\n",
       "      <td>148.0</td>\n",
       "      <td>148.0</td>\n",
       "      <td>0.0</td>\n",
       "      <td>148.0</td>\n",
       "      <td>14652</td>\n",
       "      <td>141.253130</td>\n",
       "      <td>99</td>\n",
       "      <td>0.954413</td>\n",
       "      <td>48</td>\n",
       "      <td>48</td>\n",
       "    </tr>\n",
       "    <tr>\n",
       "      <th>3</th>\n",
       "      <td>4</td>\n",
       "      <td>128.0</td>\n",
       "      <td>128.0</td>\n",
       "      <td>0.0</td>\n",
       "      <td>128.0</td>\n",
       "      <td>13184</td>\n",
       "      <td>103.956793</td>\n",
       "      <td>103</td>\n",
       "      <td>0.812162</td>\n",
       "      <td>45</td>\n",
       "      <td>51</td>\n",
       "    </tr>\n",
       "    <tr>\n",
       "      <th>4</th>\n",
       "      <td>5</td>\n",
       "      <td>142.0</td>\n",
       "      <td>142.0</td>\n",
       "      <td>0.0</td>\n",
       "      <td>142.0</td>\n",
       "      <td>13064</td>\n",
       "      <td>148.176771</td>\n",
       "      <td>92</td>\n",
       "      <td>1.043498</td>\n",
       "      <td>44</td>\n",
       "      <td>45</td>\n",
       "    </tr>\n",
       "    <tr>\n",
       "      <th>...</th>\n",
       "      <td>...</td>\n",
       "      <td>...</td>\n",
       "      <td>...</td>\n",
       "      <td>...</td>\n",
       "      <td>...</td>\n",
       "      <td>...</td>\n",
       "      <td>...</td>\n",
       "      <td>...</td>\n",
       "      <td>...</td>\n",
       "      <td>...</td>\n",
       "      <td>...</td>\n",
       "    </tr>\n",
       "    <tr>\n",
       "      <th>95</th>\n",
       "      <td>96</td>\n",
       "      <td>153.0</td>\n",
       "      <td>153.0</td>\n",
       "      <td>0.0</td>\n",
       "      <td>153.0</td>\n",
       "      <td>16830</td>\n",
       "      <td>162.993620</td>\n",
       "      <td>110</td>\n",
       "      <td>1.065318</td>\n",
       "      <td>47</td>\n",
       "      <td>51</td>\n",
       "    </tr>\n",
       "    <tr>\n",
       "      <th>96</th>\n",
       "      <td>97</td>\n",
       "      <td>162.0</td>\n",
       "      <td>162.0</td>\n",
       "      <td>0.0</td>\n",
       "      <td>162.0</td>\n",
       "      <td>15552</td>\n",
       "      <td>160.267330</td>\n",
       "      <td>96</td>\n",
       "      <td>0.989305</td>\n",
       "      <td>42</td>\n",
       "      <td>48</td>\n",
       "    </tr>\n",
       "    <tr>\n",
       "      <th>97</th>\n",
       "      <td>98</td>\n",
       "      <td>133.0</td>\n",
       "      <td>133.0</td>\n",
       "      <td>0.0</td>\n",
       "      <td>133.0</td>\n",
       "      <td>14231</td>\n",
       "      <td>124.070961</td>\n",
       "      <td>107</td>\n",
       "      <td>0.932864</td>\n",
       "      <td>53</td>\n",
       "      <td>58</td>\n",
       "    </tr>\n",
       "    <tr>\n",
       "      <th>98</th>\n",
       "      <td>99</td>\n",
       "      <td>195.0</td>\n",
       "      <td>195.0</td>\n",
       "      <td>0.0</td>\n",
       "      <td>195.0</td>\n",
       "      <td>18330</td>\n",
       "      <td>161.536451</td>\n",
       "      <td>94</td>\n",
       "      <td>0.828392</td>\n",
       "      <td>49</td>\n",
       "      <td>54</td>\n",
       "    </tr>\n",
       "    <tr>\n",
       "      <th>99</th>\n",
       "      <td>100</td>\n",
       "      <td>111.0</td>\n",
       "      <td>111.0</td>\n",
       "      <td>0.0</td>\n",
       "      <td>111.0</td>\n",
       "      <td>8547</td>\n",
       "      <td>104.815195</td>\n",
       "      <td>77</td>\n",
       "      <td>0.944281</td>\n",
       "      <td>36</td>\n",
       "      <td>40</td>\n",
       "    </tr>\n",
       "  </tbody>\n",
       "</table>\n",
       "<p>100 rows × 11 columns</p>\n",
       "</div>"
      ],
      "text/plain": [
       "   shop_id itemamount                    order_amount             total_items  \\\n",
       "                 mean median  std    max          sum         std         sum   \n",
       "0        1      158.0  158.0  0.0  158.0        13588  117.816032          86   \n",
       "1        2       94.0   94.0  0.0   94.0         9588   91.204909         102   \n",
       "2        3      148.0  148.0  0.0  148.0        14652  141.253130          99   \n",
       "3        4      128.0  128.0  0.0  128.0        13184  103.956793         103   \n",
       "4        5      142.0  142.0  0.0  142.0        13064  148.176771          92   \n",
       "..     ...        ...    ...  ...    ...          ...         ...         ...   \n",
       "95      96      153.0  153.0  0.0  153.0        16830  162.993620         110   \n",
       "96      97      162.0  162.0  0.0  162.0        15552  160.267330          96   \n",
       "97      98      133.0  133.0  0.0  133.0        14231  124.070961         107   \n",
       "98      99      195.0  195.0  0.0  195.0        18330  161.536451          94   \n",
       "99     100      111.0  111.0  0.0  111.0         8547  104.815195          77   \n",
       "\n",
       "             user_id        \n",
       "         std nunique count  \n",
       "0   0.745671      42    44  \n",
       "1   0.970265      51    55  \n",
       "2   0.954413      48    48  \n",
       "3   0.812162      45    51  \n",
       "4   1.043498      44    45  \n",
       "..       ...     ...   ...  \n",
       "95  1.065318      47    51  \n",
       "96  0.989305      42    48  \n",
       "97  0.932864      53    58  \n",
       "98  0.828392      49    54  \n",
       "99  0.944281      36    40  \n",
       "\n",
       "[100 rows x 11 columns]"
      ]
     },
     "execution_count": 30,
     "metadata": {},
     "output_type": "execute_result"
    }
   ],
   "source": [
    "#shop statistics\n",
    "DF1.groupby('shop_id').agg({'itemamount':['mean','median','std','max'],'order_amount':['sum','std'],'total_items':['sum','std'],'user_id':['nunique','count']}).reset_index()"
   ]
  },
  {
   "cell_type": "code",
   "execution_count": 31,
   "metadata": {},
   "outputs": [
    {
     "data": {
      "text/html": [
       "<div>\n",
       "<style scoped>\n",
       "    .dataframe tbody tr th:only-of-type {\n",
       "        vertical-align: middle;\n",
       "    }\n",
       "\n",
       "    .dataframe tbody tr th {\n",
       "        vertical-align: top;\n",
       "    }\n",
       "\n",
       "    .dataframe thead tr th {\n",
       "        text-align: left;\n",
       "    }\n",
       "</style>\n",
       "<table border=\"1\" class=\"dataframe\">\n",
       "  <thead>\n",
       "    <tr>\n",
       "      <th></th>\n",
       "      <th>shop_id</th>\n",
       "      <th>Day</th>\n",
       "      <th colspan=\"4\" halign=\"left\">itemamount</th>\n",
       "      <th colspan=\"2\" halign=\"left\">order_amount</th>\n",
       "      <th colspan=\"2\" halign=\"left\">total_items</th>\n",
       "      <th colspan=\"2\" halign=\"left\">user_id</th>\n",
       "    </tr>\n",
       "    <tr>\n",
       "      <th></th>\n",
       "      <th></th>\n",
       "      <th></th>\n",
       "      <th>mean</th>\n",
       "      <th>median</th>\n",
       "      <th>std</th>\n",
       "      <th>max</th>\n",
       "      <th>sum</th>\n",
       "      <th>std</th>\n",
       "      <th>sum</th>\n",
       "      <th>std</th>\n",
       "      <th>nunique</th>\n",
       "      <th>count</th>\n",
       "    </tr>\n",
       "  </thead>\n",
       "  <tbody>\n",
       "    <tr>\n",
       "      <th>0</th>\n",
       "      <td>1</td>\n",
       "      <td>1</td>\n",
       "      <td>158.0</td>\n",
       "      <td>158.0</td>\n",
       "      <td>NaN</td>\n",
       "      <td>158.0</td>\n",
       "      <td>158</td>\n",
       "      <td>NaN</td>\n",
       "      <td>1</td>\n",
       "      <td>NaN</td>\n",
       "      <td>1</td>\n",
       "      <td>1</td>\n",
       "    </tr>\n",
       "    <tr>\n",
       "      <th>1</th>\n",
       "      <td>1</td>\n",
       "      <td>2</td>\n",
       "      <td>158.0</td>\n",
       "      <td>158.0</td>\n",
       "      <td>NaN</td>\n",
       "      <td>158.0</td>\n",
       "      <td>316</td>\n",
       "      <td>NaN</td>\n",
       "      <td>2</td>\n",
       "      <td>NaN</td>\n",
       "      <td>1</td>\n",
       "      <td>1</td>\n",
       "    </tr>\n",
       "    <tr>\n",
       "      <th>2</th>\n",
       "      <td>1</td>\n",
       "      <td>3</td>\n",
       "      <td>158.0</td>\n",
       "      <td>158.0</td>\n",
       "      <td>0.0</td>\n",
       "      <td>158.0</td>\n",
       "      <td>474</td>\n",
       "      <td>111.722871</td>\n",
       "      <td>3</td>\n",
       "      <td>0.707107</td>\n",
       "      <td>2</td>\n",
       "      <td>2</td>\n",
       "    </tr>\n",
       "    <tr>\n",
       "      <th>3</th>\n",
       "      <td>1</td>\n",
       "      <td>4</td>\n",
       "      <td>158.0</td>\n",
       "      <td>158.0</td>\n",
       "      <td>NaN</td>\n",
       "      <td>158.0</td>\n",
       "      <td>158</td>\n",
       "      <td>NaN</td>\n",
       "      <td>1</td>\n",
       "      <td>NaN</td>\n",
       "      <td>1</td>\n",
       "      <td>1</td>\n",
       "    </tr>\n",
       "    <tr>\n",
       "      <th>4</th>\n",
       "      <td>1</td>\n",
       "      <td>7</td>\n",
       "      <td>158.0</td>\n",
       "      <td>158.0</td>\n",
       "      <td>0.0</td>\n",
       "      <td>158.0</td>\n",
       "      <td>632</td>\n",
       "      <td>0.000000</td>\n",
       "      <td>4</td>\n",
       "      <td>0.000000</td>\n",
       "      <td>2</td>\n",
       "      <td>2</td>\n",
       "    </tr>\n",
       "    <tr>\n",
       "      <th>...</th>\n",
       "      <td>...</td>\n",
       "      <td>...</td>\n",
       "      <td>...</td>\n",
       "      <td>...</td>\n",
       "      <td>...</td>\n",
       "      <td>...</td>\n",
       "      <td>...</td>\n",
       "      <td>...</td>\n",
       "      <td>...</td>\n",
       "      <td>...</td>\n",
       "      <td>...</td>\n",
       "      <td>...</td>\n",
       "    </tr>\n",
       "    <tr>\n",
       "      <th>2428</th>\n",
       "      <td>100</td>\n",
       "      <td>24</td>\n",
       "      <td>111.0</td>\n",
       "      <td>111.0</td>\n",
       "      <td>NaN</td>\n",
       "      <td>111.0</td>\n",
       "      <td>222</td>\n",
       "      <td>NaN</td>\n",
       "      <td>2</td>\n",
       "      <td>NaN</td>\n",
       "      <td>1</td>\n",
       "      <td>1</td>\n",
       "    </tr>\n",
       "    <tr>\n",
       "      <th>2429</th>\n",
       "      <td>100</td>\n",
       "      <td>26</td>\n",
       "      <td>111.0</td>\n",
       "      <td>111.0</td>\n",
       "      <td>0.0</td>\n",
       "      <td>111.0</td>\n",
       "      <td>666</td>\n",
       "      <td>111.000000</td>\n",
       "      <td>6</td>\n",
       "      <td>1.000000</td>\n",
       "      <td>3</td>\n",
       "      <td>3</td>\n",
       "    </tr>\n",
       "    <tr>\n",
       "      <th>2430</th>\n",
       "      <td>100</td>\n",
       "      <td>27</td>\n",
       "      <td>111.0</td>\n",
       "      <td>111.0</td>\n",
       "      <td>NaN</td>\n",
       "      <td>111.0</td>\n",
       "      <td>111</td>\n",
       "      <td>NaN</td>\n",
       "      <td>1</td>\n",
       "      <td>NaN</td>\n",
       "      <td>1</td>\n",
       "      <td>1</td>\n",
       "    </tr>\n",
       "    <tr>\n",
       "      <th>2431</th>\n",
       "      <td>100</td>\n",
       "      <td>29</td>\n",
       "      <td>111.0</td>\n",
       "      <td>111.0</td>\n",
       "      <td>NaN</td>\n",
       "      <td>111.0</td>\n",
       "      <td>333</td>\n",
       "      <td>NaN</td>\n",
       "      <td>3</td>\n",
       "      <td>NaN</td>\n",
       "      <td>1</td>\n",
       "      <td>1</td>\n",
       "    </tr>\n",
       "    <tr>\n",
       "      <th>2432</th>\n",
       "      <td>100</td>\n",
       "      <td>30</td>\n",
       "      <td>111.0</td>\n",
       "      <td>111.0</td>\n",
       "      <td>0.0</td>\n",
       "      <td>111.0</td>\n",
       "      <td>555</td>\n",
       "      <td>55.500000</td>\n",
       "      <td>5</td>\n",
       "      <td>0.500000</td>\n",
       "      <td>4</td>\n",
       "      <td>4</td>\n",
       "    </tr>\n",
       "  </tbody>\n",
       "</table>\n",
       "<p>2433 rows × 12 columns</p>\n",
       "</div>"
      ],
      "text/plain": [
       "     shop_id Day itemamount                    order_amount              \\\n",
       "                       mean median  std    max          sum         std   \n",
       "0          1   1      158.0  158.0  NaN  158.0          158         NaN   \n",
       "1          1   2      158.0  158.0  NaN  158.0          316         NaN   \n",
       "2          1   3      158.0  158.0  0.0  158.0          474  111.722871   \n",
       "3          1   4      158.0  158.0  NaN  158.0          158         NaN   \n",
       "4          1   7      158.0  158.0  0.0  158.0          632    0.000000   \n",
       "...      ...  ..        ...    ...  ...    ...          ...         ...   \n",
       "2428     100  24      111.0  111.0  NaN  111.0          222         NaN   \n",
       "2429     100  26      111.0  111.0  0.0  111.0          666  111.000000   \n",
       "2430     100  27      111.0  111.0  NaN  111.0          111         NaN   \n",
       "2431     100  29      111.0  111.0  NaN  111.0          333         NaN   \n",
       "2432     100  30      111.0  111.0  0.0  111.0          555   55.500000   \n",
       "\n",
       "     total_items           user_id        \n",
       "             sum       std nunique count  \n",
       "0              1       NaN       1     1  \n",
       "1              2       NaN       1     1  \n",
       "2              3  0.707107       2     2  \n",
       "3              1       NaN       1     1  \n",
       "4              4  0.000000       2     2  \n",
       "...          ...       ...     ...   ...  \n",
       "2428           2       NaN       1     1  \n",
       "2429           6  1.000000       3     3  \n",
       "2430           1       NaN       1     1  \n",
       "2431           3       NaN       1     1  \n",
       "2432           5  0.500000       4     4  \n",
       "\n",
       "[2433 rows x 12 columns]"
      ]
     },
     "execution_count": 31,
     "metadata": {},
     "output_type": "execute_result"
    }
   ],
   "source": [
    "#shop daily statistics\n",
    "DF1.groupby(['shop_id','Day']).agg({'itemamount':['mean','median','std','max'],'order_amount':['sum','std'],'total_items':['sum','std'],'user_id':['nunique','count']}).reset_index()"
   ]
  },
  {
   "cell_type": "markdown",
   "metadata": {},
   "source": [
    "### Payment Methods"
   ]
  },
  {
   "cell_type": "code",
   "execution_count": 32,
   "metadata": {},
   "outputs": [
    {
     "data": {
      "text/html": [
       "<div>\n",
       "<style scoped>\n",
       "    .dataframe tbody tr th:only-of-type {\n",
       "        vertical-align: middle;\n",
       "    }\n",
       "\n",
       "    .dataframe tbody tr th {\n",
       "        vertical-align: top;\n",
       "    }\n",
       "\n",
       "    .dataframe thead tr th {\n",
       "        text-align: left;\n",
       "    }\n",
       "</style>\n",
       "<table border=\"1\" class=\"dataframe\">\n",
       "  <thead>\n",
       "    <tr>\n",
       "      <th></th>\n",
       "      <th>payment_method</th>\n",
       "      <th colspan=\"4\" halign=\"left\">itemamount</th>\n",
       "      <th colspan=\"2\" halign=\"left\">order_amount</th>\n",
       "      <th colspan=\"2\" halign=\"left\">total_items</th>\n",
       "      <th>user_id</th>\n",
       "    </tr>\n",
       "    <tr>\n",
       "      <th></th>\n",
       "      <th></th>\n",
       "      <th>mean</th>\n",
       "      <th>median</th>\n",
       "      <th>std</th>\n",
       "      <th>max</th>\n",
       "      <th>sum</th>\n",
       "      <th>std</th>\n",
       "      <th>sum</th>\n",
       "      <th>std</th>\n",
       "      <th>nunique</th>\n",
       "    </tr>\n",
       "  </thead>\n",
       "  <tbody>\n",
       "    <tr>\n",
       "      <th>0</th>\n",
       "      <td>cash</td>\n",
       "      <td>439.864492</td>\n",
       "      <td>153.0</td>\n",
       "      <td>2703.231152</td>\n",
       "      <td>25725.0</td>\n",
       "      <td>1164183</td>\n",
       "      <td>4274.777173</td>\n",
       "      <td>3130</td>\n",
       "      <td>0.959274</td>\n",
       "      <td>297</td>\n",
       "    </tr>\n",
       "    <tr>\n",
       "      <th>1</th>\n",
       "      <td>credit_card</td>\n",
       "      <td>301.091066</td>\n",
       "      <td>153.0</td>\n",
       "      <td>1936.598137</td>\n",
       "      <td>25725.0</td>\n",
       "      <td>12945867</td>\n",
       "      <td>69416.519489</td>\n",
       "      <td>37415</td>\n",
       "      <td>196.863571</td>\n",
       "      <td>301</td>\n",
       "    </tr>\n",
       "    <tr>\n",
       "      <th>2</th>\n",
       "      <td>debit</td>\n",
       "      <td>427.993417</td>\n",
       "      <td>153.0</td>\n",
       "      <td>2640.757181</td>\n",
       "      <td>25725.0</td>\n",
       "      <td>1615590</td>\n",
       "      <td>7148.193333</td>\n",
       "      <td>3391</td>\n",
       "      <td>0.995668</td>\n",
       "      <td>300</td>\n",
       "    </tr>\n",
       "  </tbody>\n",
       "</table>\n",
       "</div>"
      ],
      "text/plain": [
       "  payment_method  itemamount                              order_amount  \\\n",
       "                        mean median          std      max          sum   \n",
       "0           cash  439.864492  153.0  2703.231152  25725.0      1164183   \n",
       "1    credit_card  301.091066  153.0  1936.598137  25725.0     12945867   \n",
       "2          debit  427.993417  153.0  2640.757181  25725.0      1615590   \n",
       "\n",
       "                total_items             user_id  \n",
       "            std         sum         std nunique  \n",
       "0   4274.777173        3130    0.959274     297  \n",
       "1  69416.519489       37415  196.863571     301  \n",
       "2   7148.193333        3391    0.995668     300  "
      ]
     },
     "execution_count": 32,
     "metadata": {},
     "output_type": "execute_result"
    }
   ],
   "source": [
    "#payment method statistics\n",
    "DF1.groupby('payment_method').agg({'itemamount':['mean','median','std','max'],'order_amount':['sum','std'],'total_items':['sum','std'],'user_id':'nunique'}).reset_index()"
   ]
  },
  {
   "cell_type": "code",
   "execution_count": 33,
   "metadata": {},
   "outputs": [
    {
     "data": {
      "text/html": [
       "<div>\n",
       "<style scoped>\n",
       "    .dataframe tbody tr th:only-of-type {\n",
       "        vertical-align: middle;\n",
       "    }\n",
       "\n",
       "    .dataframe tbody tr th {\n",
       "        vertical-align: top;\n",
       "    }\n",
       "\n",
       "    .dataframe thead tr th {\n",
       "        text-align: left;\n",
       "    }\n",
       "</style>\n",
       "<table border=\"1\" class=\"dataframe\">\n",
       "  <thead>\n",
       "    <tr>\n",
       "      <th></th>\n",
       "      <th>payment_method</th>\n",
       "      <th>Day</th>\n",
       "      <th colspan=\"4\" halign=\"left\">itemamount</th>\n",
       "      <th colspan=\"2\" halign=\"left\">order_amount</th>\n",
       "      <th colspan=\"2\" halign=\"left\">total_items</th>\n",
       "      <th>user_id</th>\n",
       "    </tr>\n",
       "    <tr>\n",
       "      <th></th>\n",
       "      <th></th>\n",
       "      <th></th>\n",
       "      <th>mean</th>\n",
       "      <th>median</th>\n",
       "      <th>std</th>\n",
       "      <th>max</th>\n",
       "      <th>sum</th>\n",
       "      <th>std</th>\n",
       "      <th>sum</th>\n",
       "      <th>std</th>\n",
       "      <th>nunique</th>\n",
       "    </tr>\n",
       "  </thead>\n",
       "  <tbody>\n",
       "    <tr>\n",
       "      <th>0</th>\n",
       "      <td>cash</td>\n",
       "      <td>1</td>\n",
       "      <td>152.240741</td>\n",
       "      <td>148.0</td>\n",
       "      <td>21.283296</td>\n",
       "      <td>201.0</td>\n",
       "      <td>15689</td>\n",
       "      <td>159.274737</td>\n",
       "      <td>104</td>\n",
       "      <td>1.061360</td>\n",
       "      <td>46</td>\n",
       "    </tr>\n",
       "    <tr>\n",
       "      <th>1</th>\n",
       "      <td>cash</td>\n",
       "      <td>2</td>\n",
       "      <td>1001.266667</td>\n",
       "      <td>153.0</td>\n",
       "      <td>4629.887867</td>\n",
       "      <td>25725.0</td>\n",
       "      <td>93823</td>\n",
       "      <td>7327.879470</td>\n",
       "      <td>116</td>\n",
       "      <td>1.006195</td>\n",
       "      <td>55</td>\n",
       "    </tr>\n",
       "    <tr>\n",
       "      <th>2</th>\n",
       "      <td>cash</td>\n",
       "      <td>3</td>\n",
       "      <td>150.326923</td>\n",
       "      <td>146.5</td>\n",
       "      <td>36.679171</td>\n",
       "      <td>352.0</td>\n",
       "      <td>15436</td>\n",
       "      <td>163.108936</td>\n",
       "      <td>101</td>\n",
       "      <td>0.802287</td>\n",
       "      <td>51</td>\n",
       "    </tr>\n",
       "    <tr>\n",
       "      <th>3</th>\n",
       "      <td>cash</td>\n",
       "      <td>4</td>\n",
       "      <td>157.018868</td>\n",
       "      <td>149.0</td>\n",
       "      <td>36.804311</td>\n",
       "      <td>352.0</td>\n",
       "      <td>15676</td>\n",
       "      <td>164.886516</td>\n",
       "      <td>100</td>\n",
       "      <td>0.973897</td>\n",
       "      <td>48</td>\n",
       "    </tr>\n",
       "    <tr>\n",
       "      <th>4</th>\n",
       "      <td>cash</td>\n",
       "      <td>5</td>\n",
       "      <td>155.923077</td>\n",
       "      <td>159.0</td>\n",
       "      <td>24.267986</td>\n",
       "      <td>196.0</td>\n",
       "      <td>16454</td>\n",
       "      <td>177.431936</td>\n",
       "      <td>104</td>\n",
       "      <td>0.970143</td>\n",
       "      <td>46</td>\n",
       "    </tr>\n",
       "    <tr>\n",
       "      <th>...</th>\n",
       "      <td>...</td>\n",
       "      <td>...</td>\n",
       "      <td>...</td>\n",
       "      <td>...</td>\n",
       "      <td>...</td>\n",
       "      <td>...</td>\n",
       "      <td>...</td>\n",
       "      <td>...</td>\n",
       "      <td>...</td>\n",
       "      <td>...</td>\n",
       "      <td>...</td>\n",
       "    </tr>\n",
       "    <tr>\n",
       "      <th>85</th>\n",
       "      <td>debit</td>\n",
       "      <td>26</td>\n",
       "      <td>721.088889</td>\n",
       "      <td>154.0</td>\n",
       "      <td>3812.164899</td>\n",
       "      <td>25725.0</td>\n",
       "      <td>64293</td>\n",
       "      <td>7627.849984</td>\n",
       "      <td>86</td>\n",
       "      <td>0.949216</td>\n",
       "      <td>42</td>\n",
       "    </tr>\n",
       "    <tr>\n",
       "      <th>86</th>\n",
       "      <td>debit</td>\n",
       "      <td>27</td>\n",
       "      <td>580.583333</td>\n",
       "      <td>153.5</td>\n",
       "      <td>3301.322089</td>\n",
       "      <td>25725.0</td>\n",
       "      <td>172995</td>\n",
       "      <td>19886.526874</td>\n",
       "      <td>125</td>\n",
       "      <td>1.124333</td>\n",
       "      <td>56</td>\n",
       "    </tr>\n",
       "    <tr>\n",
       "      <th>87</th>\n",
       "      <td>debit</td>\n",
       "      <td>28</td>\n",
       "      <td>148.280702</td>\n",
       "      <td>148.0</td>\n",
       "      <td>24.083007</td>\n",
       "      <td>201.0</td>\n",
       "      <td>17076</td>\n",
       "      <td>148.205811</td>\n",
       "      <td>115</td>\n",
       "      <td>0.972685</td>\n",
       "      <td>50</td>\n",
       "    </tr>\n",
       "    <tr>\n",
       "      <th>88</th>\n",
       "      <td>debit</td>\n",
       "      <td>29</td>\n",
       "      <td>151.163265</td>\n",
       "      <td>153.0</td>\n",
       "      <td>24.548716</td>\n",
       "      <td>196.0</td>\n",
       "      <td>15179</td>\n",
       "      <td>155.451663</td>\n",
       "      <td>100</td>\n",
       "      <td>0.956539</td>\n",
       "      <td>43</td>\n",
       "    </tr>\n",
       "    <tr>\n",
       "      <th>89</th>\n",
       "      <td>debit</td>\n",
       "      <td>30</td>\n",
       "      <td>146.966102</td>\n",
       "      <td>145.0</td>\n",
       "      <td>23.718875</td>\n",
       "      <td>201.0</td>\n",
       "      <td>18374</td>\n",
       "      <td>145.321428</td>\n",
       "      <td>125</td>\n",
       "      <td>0.948406</td>\n",
       "      <td>56</td>\n",
       "    </tr>\n",
       "  </tbody>\n",
       "</table>\n",
       "<p>90 rows × 11 columns</p>\n",
       "</div>"
      ],
      "text/plain": [
       "   payment_method Day   itemamount                              order_amount  \\\n",
       "                              mean median          std      max          sum   \n",
       "0            cash   1   152.240741  148.0    21.283296    201.0        15689   \n",
       "1            cash   2  1001.266667  153.0  4629.887867  25725.0        93823   \n",
       "2            cash   3   150.326923  146.5    36.679171    352.0        15436   \n",
       "3            cash   4   157.018868  149.0    36.804311    352.0        15676   \n",
       "4            cash   5   155.923077  159.0    24.267986    196.0        16454   \n",
       "..            ...  ..          ...    ...          ...      ...          ...   \n",
       "85          debit  26   721.088889  154.0  3812.164899  25725.0        64293   \n",
       "86          debit  27   580.583333  153.5  3301.322089  25725.0       172995   \n",
       "87          debit  28   148.280702  148.0    24.083007    201.0        17076   \n",
       "88          debit  29   151.163265  153.0    24.548716    196.0        15179   \n",
       "89          debit  30   146.966102  145.0    23.718875    201.0        18374   \n",
       "\n",
       "                 total_items           user_id  \n",
       "             std         sum       std nunique  \n",
       "0     159.274737         104  1.061360      46  \n",
       "1    7327.879470         116  1.006195      55  \n",
       "2     163.108936         101  0.802287      51  \n",
       "3     164.886516         100  0.973897      48  \n",
       "4     177.431936         104  0.970143      46  \n",
       "..           ...         ...       ...     ...  \n",
       "85   7627.849984          86  0.949216      42  \n",
       "86  19886.526874         125  1.124333      56  \n",
       "87    148.205811         115  0.972685      50  \n",
       "88    155.451663         100  0.956539      43  \n",
       "89    145.321428         125  0.948406      56  \n",
       "\n",
       "[90 rows x 11 columns]"
      ]
     },
     "execution_count": 33,
     "metadata": {},
     "output_type": "execute_result"
    }
   ],
   "source": [
    "#Daily payment method statistics\n",
    "DF1.groupby(['payment_method','Day']).agg({'itemamount':['mean','median','std','max'],'order_amount':['sum','std'],'total_items':['sum','std'],'user_id':'nunique'}).reset_index()"
   ]
  },
  {
   "cell_type": "code",
   "execution_count": 34,
   "metadata": {
    "scrolled": false
   },
   "outputs": [
    {
     "name": "stderr",
     "output_type": "stream",
     "text": [
      "C:\\Anaconda\\lib\\site-packages\\seaborn\\_decorators.py:36: FutureWarning: Pass the following variables as keyword args: x, y. From version 0.12, the only valid positional argument will be `data`, and passing other arguments without an explicit keyword will result in an error or misinterpretation.\n",
      "  warnings.warn(\n"
     ]
    },
    {
     "data": {
      "text/plain": [
       "<AxesSubplot:xlabel='Day', ylabel='order_amount'>"
      ]
     },
     "execution_count": 34,
     "metadata": {},
     "output_type": "execute_result"
    },
    {
     "data": {
      "image/png": "[encoded data removed]",
      "text/plain": [
       "<Figure size 432x288 with 1 Axes>"
      ]
     },
     "metadata": {
      "needs_background": "light"
     },
     "output_type": "display_data"
    }
   ],
   "source": [
    "DFmethodavgitemamount=DF1.groupby(['payment_method','Day']).agg({'order_amount':'mean'}).reset_index()\n",
    "sns.lineplot(DFmethodavgitemamount['Day'],DFmethodavgitemamount['order_amount'],hue=DFmethodavgitemamount['payment_method'])"
   ]
  },
  {
   "cell_type": "markdown",
   "metadata": {},
   "source": [
    "Credit card generating substantial value compared to other methods"
   ]
  }
 ],
 "metadata": {
  "kernelspec": {
   "display_name": "Python 3",
   "language": "python",
   "name": "python3"
  },
  "language_info": {
   "codemirror_mode": {
    "name": "ipython",
    "version": 3
   },
   "file_extension": ".py",
   "mimetype": "text/x-python",
   "name": "python",
   "nbconvert_exporter": "python",
   "pygments_lexer": "ipython3",
   "version": "3.8.5"
  }
 },
 "nbformat": 4,
 "nbformat_minor": 4
}
